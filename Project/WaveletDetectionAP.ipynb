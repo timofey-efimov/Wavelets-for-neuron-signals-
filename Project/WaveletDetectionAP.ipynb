{
  "cells": [
    {
      "cell_type": "code",
      "execution_count": null,
      "metadata": {
        "id": "6XUDtGyBJeXf"
      },
      "outputs": [],
      "source": [
        "import os.path\n",
        "import scipy.io\n",
        "import pandas as pd\n",
        "import numpy as np\n",
        "import matplotlib.pyplot as plt\n",
        "import pywt\n",
        "import pywt.data\n",
        "from scipy import signal\n",
        "\n",
        "import seaborn as sns\n",
        "%matplotlib inline"
      ]
    },
    {
      "cell_type": "code",
      "execution_count": 202,
      "metadata": {
        "id": "393bKoDoJhvY"
      },
      "outputs": [],
      "source": [
        "# Load in provided raw waveform data\n",
        "\n",
        "mat = scipy.io.loadmat('tetrode12.mat')\n",
        "RawData = mat['spikes_ep2']"
      ]
    },
    {
      "cell_type": "code",
      "execution_count": null,
      "metadata": {
        "id": "0K3-oFCRJhyM"
      },
      "outputs": [],
      "source": [
        "from scipy import signal\n",
        "\n",
        "FS = 30000\n",
        "\n",
        "# Pass signal through a bandpass filter\n",
        "b, a = signal.butter(4, [600/(FS/2), 6000/(FS/2)], btype='bandpass')\n",
        "\n",
        "FilteredData = signal.lfilter(b, a, RawData, axis=0)"
      ]
    },
    {
      "cell_type": "code",
      "execution_count": null,
      "metadata": {
        "id": "t-bEySx0Jh1A"
      },
      "outputs": [],
      "source": [
        "def data_preprocessing(FilteredData):\n",
        "  '''\n",
        "  Computes the indices where FilteredData exceeds 60.\n",
        "  This is a naive approach to thresholding; more robust approaches would\n",
        "    enforce a 1ms interspike interval. \n",
        "  '''\n",
        "  SnippetLength = 40\n",
        "  SnippetPre = 10\n",
        "  SnippetPost = SnippetLength - SnippetPre\n",
        "  Threshold = 60\n",
        "\n",
        "  DataLen = FilteredData.shape[0] - (SnippetPost)\n",
        "\n",
        "  # can be remanipulated \n",
        "  # it is not robust spike detection but it's ok\n",
        "  OverThreshold = np.where(FilteredData > Threshold)\n",
        "  central = list(np.where(FilteredData > Threshold)[0])\n",
        "  all_indices = []\n",
        "  for i in central:\n",
        "    for j in range(i-SnippetPre, i+SnippetPost+1):\n",
        "      all_indices.append(j) \n",
        "  return all_indices "
      ]
    },
    {
      "cell_type": "code",
      "execution_count": null,
      "metadata": {
        "id": "5-Lat_uhJh6a"
      },
      "outputs": [],
      "source": [
        "# Wavelet Implementation\n",
        "\n",
        "def add_gaussian_noise(real_signal, spikes, amp):\n",
        "  '''\n",
        "  Adds white (Gaussian) noise to original signal.\n",
        "  Inputs:\n",
        "    real_signal: original spike waveform\n",
        "    spikes: concatenation of all action potential values throughout real_signal\n",
        "    amp: amplitude of Gaussian noise to add\n",
        "  Outputs:\n",
        "    snr: SNR (signal-to-noise ratio) of artificial_signal\n",
        "    artifical_signal: new waveform with Gaussian noise added to original waveform\n",
        "  '''\n",
        "  # Create new signal with added Gaussian noise\n",
        "  noise = amp * np.random.normal(0, 1, len(real_signal))\n",
        "  artificial_signal = real_signal + noise\n",
        "\n",
        "  # Calculate new SNR (Equation 11 from paper)\n",
        "  snr = 10 * np.log10(((len(real_signal) / len(spikes)) * (np.sum(spikes ** 2))) / np.sum(artificial_signal ** 2))\n",
        "\n",
        "  # Normalize new signal \n",
        "  artificial_signal = artificial_signal / np.sum(artificial_signal)\n",
        "  \n",
        "  return snr, artificial_signal\n"
      ]
    },
    {
      "cell_type": "code",
      "execution_count": null,
      "metadata": {
        "id": "mvgHcaEsMiob"
      },
      "outputs": [],
      "source": [
        "def detect_aps_offline(signal): # implement equations 5 and 6\n",
        "  median = np.median(signal)\n",
        "  sd = median / 0.6795\n",
        "  threshold = sd * np.sqrt(2 + np.log(len(signal)))\n",
        "  return np.nonzero(signal >= threshold)[0] # array of detected AP indices"
      ]
    },
    {
      "cell_type": "code",
      "execution_count": null,
      "metadata": {
        "id": "3MgQZsUcMtWT"
      },
      "outputs": [],
      "source": [
        "def swt(signal):\n",
        "  '''\n",
        "  Implement SWT (Figure 3) for detail levels 1-4 using Haar as mother wavelet\n",
        "  '''\n",
        "  haar = pywt.Wavelet('haar')\n",
        "  detail_coeffs = []\n",
        "  coeffs = pywt.swt(signal, haar, level=4)\n",
        "  detail_coeffs.append(np.array([c[1] for c in coeffs]))\n",
        "  return np.vstack(detail_coeffs)"
      ]
    },
    {
      "cell_type": "code",
      "execution_count": null,
      "metadata": {
        "id": "Hkx8ryi6Miq3"
      },
      "outputs": [],
      "source": [
        "def evaluate_accuracy(preds, truth):\n",
        "  '''\n",
        "  Evaluates the detection accuracy (true positive rate) of preds relative to\n",
        "    truth; returns percent of true positives detected.\n",
        "  '''\n",
        "  total_pos = len(truth)\n",
        "  return (len(np.intersect1d(preds, truth)) / total_pos) * 100"
      ]
    },
    {
      "cell_type": "code",
      "execution_count": null,
      "metadata": {
        "id": "APd_t7GeMtYu"
      },
      "outputs": [],
      "source": [
        "def detect_aps_online(sig, waveform, level): \n",
        "  '''\n",
        "  Uses wavelet analysis to detect action potentials in sig.\n",
        "  Inputs:\n",
        "    waveform: original spike waveform\n",
        "    sig: signal (containing additive Gaussian noise) from which to detect APs\n",
        "    level: SWT detail level to use for detection\n",
        "  Outputs:\n",
        "    indices of detected APs within sig\n",
        "  '''\n",
        "  # Implement online detection (Figure 4)\n",
        "  wavelet_result = swt(sig)\n",
        "  dk = np.abs(wavelet_result[-1*level, :])\n",
        "  dk1 = np.abs(wavelet_result[-1, :])\n",
        "  P = 0.318\n",
        "  G1 = 40\n",
        "  sd = np.median(waveform) / 0.6795\n",
        "  f1 = signal.zpk2sos([1], [-0.9937], 0.00311279) \n",
        "  f11, f12 = signal.butter(4, 10, fs = 10000)\n",
        "\n",
        "  # Approximate SD (standard deviation)\n",
        "  for _ in range(100): \n",
        "    after_a = dk1 > sd\n",
        "    after_f1 = signal.lfilter(f11, f12, after_a, axis=0)\n",
        "    sd = (G1 * (after_f1) - P)\n",
        "    \n",
        "  f2 = signal.zpk2sos([1], [-0.9937], 0.00311279) \n",
        "  f21, f22 = signal.butter(4, 10, fs = 10000)\n",
        "  G2 = 2.75/1000\n",
        "  after_f2 = signal.lfilter(f21, f22, sd, axis=0)\n",
        "  threshold = np.abs(G2 * after_f2)\n",
        "  detected = np.nonzero(dk > np.mean(threshold))\n",
        "  return detected[0]"
      ]
    },
    {
      "cell_type": "code",
      "execution_count": null,
      "metadata": {
        "id": "URV-Jur2GCJO"
      },
      "outputs": [],
      "source": [
        "amplitudes = np.arange(2, 48, 4) # Gives SNR range 0 to 10dB\n",
        "\n",
        "# Concatenate all ground-truth spikes\n",
        "waveform = np.transpose(FilteredData)[0][0:50000]\n",
        "spike_times = np.unique(data_preprocessing(waveform))\n",
        "\n",
        "spikes = waveform[spike_times]\n",
        "last_snr = 10\n",
        "snr = 11\n",
        "\n",
        "all_snrs = []\n",
        "all_accs = []\n",
        "\n",
        "all_preds = []\n",
        "all_truth = []\n",
        "# Iterate through SNRs 0-10 dB\n",
        "for amp in amplitudes:\n",
        "  snrs = []\n",
        "  detection_accs = []\n",
        "  while snr >= last_snr:\n",
        "    snr, sig = add_gaussian_noise(waveform, spikes, amp)\n",
        "    if snr < 0:\n",
        "      break\n",
        "  last_snr = snr\n",
        "  if snr < 0:\n",
        "    break\n",
        "\n",
        "  # Iterate through detail levels 1-4\n",
        "  for level in range(1, 5):\n",
        "    # Use wavelet detection\n",
        "    detected_aps = detect_aps_online(sig, waveform, level)\n",
        "    # Compute detection accuracy\n",
        "    all_preds.append(detected_aps)\n",
        "    all_truth.append(spike_times)\n",
        "    acc = evaluate_accuracy(detected_aps, spike_times)\n",
        "    \n",
        "    snrs.append(snr)\n",
        "    detection_accs.append(acc)\n",
        "\n",
        "  all_snrs.append(snrs)\n",
        "  all_accs.append(detection_accs)\n",
        "\n",
        "snr_x = np.transpose(np.vstack(all_snrs))\n",
        "acc_y = np.transpose(np.vstack(all_accs))"
      ]
    },
    {
      "cell_type": "code",
      "execution_count": null,
      "metadata": {
        "id": "E2JHgQiEPl_I",
        "colab": {
          "base_uri": "https://localhost:8080/",
          "height": 295
        },
        "outputId": "339a9f71-5044-40bb-d41f-db0acc6f641f"
      },
      "outputs": [
        {
          "output_type": "display_data",
          "data": {
            "text/plain": [
              "<Figure size 432x288 with 1 Axes>"
            ],
            "image/png": "[encoded data removed]"
          },
          "metadata": {
            "needs_background": "light"
          }
        }
      ],
      "source": [
        "plt.plot(snr_x[0], acc_y[0], label = \"Level 1\")\n",
        "plt.plot(snr_x[1], acc_y[1], label = \"Level 2\")\n",
        "plt.plot(snr_x[2], acc_y[2], label = \"Level 3\")\n",
        "plt.plot(snr_x[3], acc_y[3], label = \"Level 4\")\n",
        "plt.xlabel(\"SNR (dB)\")\n",
        "plt.ylabel(\"Correct Detection Accuracy (%)\")\n",
        "plt.legend()\n",
        "plt.title(\"Action Potential Detection Accuracy for Various SNRs\")\n",
        "plt.show()"
      ]
    },
    {
      "cell_type": "code",
      "execution_count": null,
      "metadata": {
        "id": "Rki6iC7_Jh8_"
      },
      "outputs": [],
      "source": []
    },
    {
      "cell_type": "markdown",
      "source": [
        "Below is the attempt to denoise the signal with FFT before I recalled scipy.signal has built-in filters lol :)"
      ],
      "metadata": {
        "id": "zupHQU5xjTYV"
      }
    },
    {
      "cell_type": "code",
      "execution_count": null,
      "metadata": {
        "id": "VB47nPpOSg45"
      },
      "outputs": [],
      "source": [
        "# Denoising\n",
        "\n",
        "from scipy.fft import fft, fftfreq\n",
        "\n",
        "# get the list of frequencies\n",
        "num=np.size(x)\n",
        "freq = [i / num for i in list(range(num))]\n",
        "\n",
        "# get the list of spectrums\n",
        "spectrum=f.real*f.real+f.imag*f.imag\n",
        "nspectrum=spectrum/spectrum[0]\n",
        "\n",
        "# plot nspectrum per frequency, with a semilog scale on nspectrum\n",
        "plt.semilogy(freq,nspectrum)"
      ]
    },
    {
      "cell_type": "code",
      "execution_count": null,
      "metadata": {
        "id": "RKuB5h5BTRN6"
      },
      "outputs": [],
      "source": [
        "dt = 1\n",
        "n = waveform.shape[0]\n",
        "F = fft(waveform)\n",
        "w = fftfreq(n, dt)\n",
        "t=np.linspace(1, n, n)\n",
        "T = n/t[0:n]\n",
        "indices = np.where(w > 0)\n",
        "w_pos = abs(w[indices])\n",
        "F_pos = abs(F[indices])"
      ]
    },
    {
      "cell_type": "code",
      "execution_count": null,
      "metadata": {
        "id": "QORBy9N1UBXa"
      },
      "outputs": [],
      "source": [
        "print(np.shape(t))\n",
        "print(np.shape(waveform))\n",
        "print(n)\n",
        "print(np.shape(F))\n",
        "print(np.shape(abs(F[indices])))\n",
        "\n",
        "print(w)"
      ]
    },
    {
      "cell_type": "code",
      "execution_count": null,
      "metadata": {
        "id": "HKa1nMk-Sg7B"
      },
      "outputs": [],
      "source": [
        "fig1 = plt.figure()\n",
        "ax = fig1.add_axes([0, 0, 2, 0.8])\n",
        "axF = fig1.add_axes([0, 1.2, 2, 0.8])\n",
        "axF.plot(w_pos, abs(F_pos))\n",
        "axF.set_xlabel('Frequency', fontsize = 13)\n",
        "axF.set_ylabel('magnitude', fontsize = 13)\n",
        "axF.set_title('Periodogram (FFT Result)', fontsize = 15)\n",
        "axF.tick_params(labelsize = 13)\n",
        "ax.plot(T, abs(F_pos))\n",
        "ax.set_xlabel('Period', fontsize = 13)\n",
        "ax.set_ylabel('magnitude', fontsize = 13)\n",
        "ax.set_title('Periodogram (FFT Result)', fontsize = 15)\n",
        "ax.tick_params(labelsize = 13)"
      ]
    },
    {
      "cell_type": "code",
      "execution_count": null,
      "metadata": {
        "id": "x1vPk3KFUYIF"
      },
      "outputs": [],
      "source": [
        "from numpy.fft import fft, ifft\n",
        "\n",
        "sr = 2000\n",
        "x = waveform\n",
        "X = fft(x)\n",
        "N = len(X)\n",
        "n = np.arange(N)\n",
        "T = len(waveform)/30000\n",
        "freq = n/T \n",
        "\n",
        "plt.figure(figsize = (12, 6))\n",
        "plt.subplot(121)\n",
        "\n",
        "plt.stem(freq, np.abs(X), 'b', \\\n",
        "         markerfmt=\" \", basefmt=\"-b\")\n",
        "plt.xlabel('Freq (Hz)')\n",
        "plt.ylabel('FFT Amplitude |X(freq)|')\n",
        "plt.xlim(0, 10)\n",
        "\n",
        "plt.subplot(122)\n",
        "plt.plot(t, ifft(X), 'r')\n",
        "plt.xlabel('Time (s)')\n",
        "plt.ylabel('Amplitude')\n",
        "plt.tight_layout()\n",
        "plt.show()"
      ]
    },
    {
      "cell_type": "code",
      "execution_count": null,
      "metadata": {
        "id": "qjECfRuIUYVv"
      },
      "outputs": [],
      "source": [
        "EEG = waveform\n",
        "\n",
        "x = EEG                               # Relabel the data variable\n",
        "dt = len(waveform)/30000                  # Define the sampling interval\n",
        "N = x.shape[0]                        # Define the total number of data points\n",
        "T = N * dt                            # Define the total duration of the data\n",
        "\n",
        "xf = fft(x - x.mean())                # Compute Fourier transform of x\n",
        "Sxx = 2 * dt ** 2 / T * (xf * xf.conj())  # Compute spectrum\n",
        "Sxx = Sxx[:int(len(x) / 2)]           # Ignore negative frequencies\n",
        "\n",
        "df = 1 / T.max()                      # Determine frequency resolution\n",
        "fNQ = 1 / dt / 2                      # Determine Nyquist frequency\n",
        "faxis = np.arange(0,fNQ,df)              # Construct frequency axis\n",
        "\n",
        "plt.plot(faxis, Sxx.real)                 # Plot spectrum vs frequency\n",
        "plt.xlim([0, 100])                        # Select frequency range\n",
        "plt.xlabel('Frequency [Hz]')              # Label the axes\n",
        "plt.ylabel('Power [$\\mu V^2$/Hz]')\n",
        "plt.show()"
      ]
    }
  ],
  "metadata": {
    "colab": {
      "provenance": []
    },
    "kernelspec": {
      "display_name": "Python 3",
      "name": "python3"
    },
    "language_info": {
      "name": "python"
    }
  },
  "nbformat": 4,
  "nbformat_minor": 0
}