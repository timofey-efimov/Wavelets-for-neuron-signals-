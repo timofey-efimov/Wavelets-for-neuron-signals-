{
  "nbformat": 4,
  "nbformat_minor": 0,
  "metadata": {
    "colab": {
      "provenance": []
    },
    "kernelspec": {
      "name": "python3",
      "display_name": "Python 3"
    },
    "language_info": {
      "name": "python"
    }
  },
  "cells": [
    {
      "cell_type": "code",
      "execution_count": 9,
      "metadata": {
        "id": "2Xfb4KzcilSg"
      },
      "outputs": [],
      "source": [
        "import os.path\n",
        "import scipy.io\n",
        "import pandas as pd\n",
        "import numpy as np\n",
        "import matplotlib.pyplot as plt\n",
        "import pywt\n",
        "import pywt.data\n",
        "from scipy import signal\n",
        "\n",
        "import seaborn as sns\n",
        "%matplotlib inline"
      ]
    },
    {
      "cell_type": "code",
      "source": [
        "# Load in provided raw waveform data\n",
        "\n",
        "mat = scipy.io.loadmat('tetrode12.mat')\n",
        "RawData = mat['spikes_ep2']"
      ],
      "metadata": {
        "id": "dStqrEafiqXI"
      },
      "execution_count": null,
      "outputs": []
    },
    {
      "cell_type": "code",
      "source": [
        "from scipy import signal\n",
        "\n",
        "FS = 30000\n",
        "\n",
        "# Pass signal through a bandpass filter\n",
        "b, a = signal.butter(4, [600/(FS/2), 6000/(FS/2)], btype='bandpass')\n",
        "\n",
        "FilteredData = signal.lfilter(b, a, RawData, axis=0)"
      ],
      "metadata": {
        "id": "g0y1UpZmiqZ4"
      },
      "execution_count": null,
      "outputs": []
    },
    {
      "cell_type": "code",
      "source": [
        "def data_preprocessing(FilteredData):\n",
        "  '''\n",
        "  Computes the indices where FilteredData exceeds 60.\n",
        "  This is a naive approach to thresholding; more robust approaches would\n",
        "    enforce a 1ms interspike interval. \n",
        "  '''\n",
        "  SnippetLength = 40\n",
        "  SnippetPre = 10\n",
        "  SnippetPost = SnippetLength - SnippetPre\n",
        "  Threshold = 60\n",
        "\n",
        "  DataLen = FilteredData.shape[0] - (SnippetPost)\n",
        "\n",
        "  # can be remanipulated \n",
        "  # it is not robust spike detection but it's ok\n",
        "  OverThreshold = np.where(FilteredData > Threshold)\n",
        "  central = list(np.where(FilteredData > Threshold)[0])\n",
        "  all_indices = []\n",
        "  for i in central:\n",
        "    for j in range(i-SnippetPre, i+SnippetPost+1):\n",
        "      all_indices.append(j) \n",
        "  return all_indices \n",
        "def swt(signal):\n",
        "  '''\n",
        "  Implement SWT (Figure 3) for detail levels 1-4 using Haar as mother wavelet\n",
        "  '''\n",
        "  haar = pywt.Wavelet('haar')\n",
        "  detail_coeffs = []\n",
        "  coeffs = pywt.swt(signal, haar, level=4)\n",
        "  detail_coeffs.append(np.array([c[1] for c in coeffs]))\n",
        "  return np.vstack(detail_coeffs)"
      ],
      "metadata": {
        "id": "9zcr2JdYi8je"
      },
      "execution_count": 3,
      "outputs": []
    },
    {
      "cell_type": "code",
      "source": [
        "waveform = np.transpose(FilteredData)[0][0:50000]\n",
        "\n",
        "wavelet_result = swt(waveform)\n",
        "\n",
        "dk = wavelet_result[-1*1, :]\n",
        "\n",
        "spike_times = np.unique(data_preprocessing(waveform))"
      ],
      "metadata": {
        "id": "_vNDSu-iiqca"
      },
      "execution_count": null,
      "outputs": []
    },
    {
      "cell_type": "code",
      "source": [
        "AP = []\n",
        "for i in range(len(waveform)):\n",
        "  AP.append(0)\n",
        "\n",
        "for i in range(len(waveform)):\n",
        "  if i in spike_times:\n",
        "    AP[i] = waveform[i]"
      ],
      "metadata": {
        "id": "71h7hGA8me4Z"
      },
      "execution_count": null,
      "outputs": []
    },
    {
      "cell_type": "code",
      "source": [
        "plt.plot(AP[12500:14000])\n",
        "plt.xlabel(\"Sample Number\")\n",
        "plt.ylabel(\"uV\")\n",
        "plt.title(\"Action Potentials\")\n",
        "plt.show()"
      ],
      "metadata": {
        "id": "RuwD5Mz1iqeq"
      },
      "execution_count": null,
      "outputs": []
    },
    {
      "cell_type": "code",
      "source": [
        "plt.plot(waveform[12500:14000])\n",
        "plt.xlabel(\"Sample Number\")\n",
        "plt.ylabel(\"uV\")\n",
        "plt.title(\"Waveform for original signal\")\n",
        "plt.show()"
      ],
      "metadata": {
        "id": "wmb4_gUDiqhh"
      },
      "execution_count": null,
      "outputs": []
    },
    {
      "cell_type": "code",
      "source": [
        "for i in range(1,5):\n",
        "\n",
        "  waveform = np.transpose(FilteredData)[0][0:50000]\n",
        "\n",
        "  wavelet_result = swt(waveform)\n",
        "\n",
        "  dk = wavelet_result[-1*i, :]\n",
        "\n",
        "  spike_times = np.unique(data_preprocessing(waveform))\n",
        "\n",
        "  plt.plot(dk[12500:14000])\n",
        "  plt.xlabel(\"Sample Number\")\n",
        "  plt.ylabel(\"uV\")\n",
        "  plt.title(\"Waveform for Level-4 Detailed coefficients\")\n",
        "  plt.show()"
      ],
      "metadata": {
        "id": "zVhUl7m8iqkI"
      },
      "execution_count": null,
      "outputs": []
    },
    {
      "cell_type": "code",
      "source": [],
      "metadata": {
        "id": "Q1bPPks3iqmg"
      },
      "execution_count": null,
      "outputs": []
    }
  ]
}